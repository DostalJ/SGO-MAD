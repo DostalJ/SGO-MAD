{
 "cells": [
  {
   "cell_type": "code",
   "execution_count": 5,
   "metadata": {},
   "outputs": [],
   "source": [
    "x=[1, 2, 3]\n",
    "y=[4, 5, 6]"
   ]
  },
  {
   "cell_type": "code",
   "execution_count": 1,
   "metadata": {},
   "outputs": [],
   "source": [
    "def rozdil_vektoru(a, b):\n",
    "    z=[]\n",
    "    for i in (range(len(a))):\n",
    "        c=a[i]-b[i]\n",
    "        z.append(c)\n",
    "    return z"
   ]
  },
  {
   "cell_type": "code",
   "execution_count": 2,
   "metadata": {},
   "outputs": [],
   "source": [
    "def norma(x):\n",
    "    c=0\n",
    "    for i in range(len(x)):\n",
    "        c += x[i]**2\n",
    "    return c**(1/2)"
   ]
  },
  {
   "cell_type": "code",
   "execution_count": 3,
   "metadata": {},
   "outputs": [],
   "source": [
    "def scalar_product(x, y):\n",
    "    c=0\n",
    "    for i in range(len(x)):\n",
    "        c += x[i]*y[i]\n",
    "    return c"
   ]
  },
  {
   "cell_type": "code",
   "execution_count": 4,
   "metadata": {},
   "outputs": [],
   "source": [
    "def distance(x, y):\n",
    "    return norma(rozdil_vektoru(x, y))"
   ]
  },
  {
   "cell_type": "code",
   "execution_count": 6,
   "metadata": {},
   "outputs": [
    {
     "name": "stdout",
     "output_type": "stream",
     "text": [
      "[-3, -3, -3]\n",
      "3.7416573867739413\n",
      "32\n",
      "5.196152422706632\n"
     ]
    }
   ],
   "source": [
    "print(rozdil_vektoru(x, y))\n",
    "print(norma(x))\n",
    "print(scalar_product(x, y))\n",
    "print(distance(x, y))"
   ]
  },
  {
   "cell_type": "code",
   "execution_count": null,
   "metadata": {},
   "outputs": [],
   "source": []
  }
 ],
 "metadata": {
  "kernelspec": {
   "display_name": "Python 3",
   "language": "python",
   "name": "python3"
  },
  "language_info": {
   "codemirror_mode": {
    "name": "ipython",
    "version": 3
   },
   "file_extension": ".py",
   "mimetype": "text/x-python",
   "name": "python",
   "nbconvert_exporter": "python",
   "pygments_lexer": "ipython3",
   "version": "3.6.4"
  }
 },
 "nbformat": 4,
 "nbformat_minor": 2
}
